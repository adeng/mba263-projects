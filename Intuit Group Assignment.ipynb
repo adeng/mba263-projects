{
 "cells": [
  {
   "cell_type": "markdown",
   "id": "ba694513",
   "metadata": {},
   "source": [
    "# Intuit / Quicken Quickbooks Group Assignment\n",
    "#### Class: Marketing Analytics (EWMBA263 -1)\n",
    "#### Team: Albert Deng, Peter Pang, Alex Im, and DJ Prahladka"
   ]
  },
  {
   "cell_type": "markdown",
   "id": "f8718622",
   "metadata": {},
   "source": [
    "Import data and look at the variables available"
   ]
  },
  {
   "cell_type": "code",
   "execution_count": 1,
   "id": "2de44129",
   "metadata": {},
   "outputs": [],
   "source": [
    "import pandas\n",
    "import shared.mba263 as mba263\n",
    "import matplotlib.pyplot as plt\n",
    "import numpy as np\n",
    "data = pandas.read_csv('shared/intuit.csv')"
   ]
  },
  {
   "cell_type": "code",
   "execution_count": 20,
   "id": "5b1426d9",
   "metadata": {},
   "outputs": [
    {
     "data": {
      "text/html": [
       "<div>\n",
       "<style scoped>\n",
       "    .dataframe tbody tr th:only-of-type {\n",
       "        vertical-align: middle;\n",
       "    }\n",
       "\n",
       "    .dataframe tbody tr th {\n",
       "        vertical-align: top;\n",
       "    }\n",
       "\n",
       "    .dataframe thead th {\n",
       "        text-align: right;\n",
       "    }\n",
       "</style>\n",
       "<table border=\"1\" class=\"dataframe\">\n",
       "  <thead>\n",
       "    <tr style=\"text-align: right;\">\n",
       "      <th></th>\n",
       "      <th>id</th>\n",
       "      <th>sex</th>\n",
       "      <th>bizflag</th>\n",
       "      <th>zip</th>\n",
       "      <th>zip_bins</th>\n",
       "      <th>numords</th>\n",
       "      <th>dollars</th>\n",
       "      <th>last</th>\n",
       "      <th>sincepurch</th>\n",
       "      <th>version1</th>\n",
       "      <th>owntaxprod</th>\n",
       "      <th>upgraded</th>\n",
       "      <th>res1</th>\n",
       "    </tr>\n",
       "  </thead>\n",
       "  <tbody>\n",
       "    <tr>\n",
       "      <th>0</th>\n",
       "      <td>1</td>\n",
       "      <td>U</td>\n",
       "      <td>1</td>\n",
       "      <td>99999</td>\n",
       "      <td>20</td>\n",
       "      <td>1</td>\n",
       "      <td>129.5</td>\n",
       "      <td>11</td>\n",
       "      <td>1</td>\n",
       "      <td>0</td>\n",
       "      <td>0</td>\n",
       "      <td>0</td>\n",
       "      <td>0</td>\n",
       "    </tr>\n",
       "    <tr>\n",
       "      <th>1</th>\n",
       "      <td>2</td>\n",
       "      <td>U</td>\n",
       "      <td>1</td>\n",
       "      <td>99999</td>\n",
       "      <td>20</td>\n",
       "      <td>2</td>\n",
       "      <td>65.0</td>\n",
       "      <td>4</td>\n",
       "      <td>14</td>\n",
       "      <td>0</td>\n",
       "      <td>0</td>\n",
       "      <td>0</td>\n",
       "      <td>0</td>\n",
       "    </tr>\n",
       "    <tr>\n",
       "      <th>2</th>\n",
       "      <td>3</td>\n",
       "      <td>U</td>\n",
       "      <td>1</td>\n",
       "      <td>99999</td>\n",
       "      <td>20</td>\n",
       "      <td>1</td>\n",
       "      <td>24.5</td>\n",
       "      <td>13</td>\n",
       "      <td>36</td>\n",
       "      <td>1</td>\n",
       "      <td>0</td>\n",
       "      <td>0</td>\n",
       "      <td>0</td>\n",
       "    </tr>\n",
       "    <tr>\n",
       "      <th>3</th>\n",
       "      <td>4</td>\n",
       "      <td>U</td>\n",
       "      <td>1</td>\n",
       "      <td>99999</td>\n",
       "      <td>20</td>\n",
       "      <td>1</td>\n",
       "      <td>80.5</td>\n",
       "      <td>5</td>\n",
       "      <td>19</td>\n",
       "      <td>1</td>\n",
       "      <td>0</td>\n",
       "      <td>0</td>\n",
       "      <td>0</td>\n",
       "    </tr>\n",
       "    <tr>\n",
       "      <th>4</th>\n",
       "      <td>5</td>\n",
       "      <td>U</td>\n",
       "      <td>1</td>\n",
       "      <td>99999</td>\n",
       "      <td>20</td>\n",
       "      <td>1</td>\n",
       "      <td>111.0</td>\n",
       "      <td>14</td>\n",
       "      <td>7</td>\n",
       "      <td>0</td>\n",
       "      <td>0</td>\n",
       "      <td>0</td>\n",
       "      <td>0</td>\n",
       "    </tr>\n",
       "    <tr>\n",
       "      <th>5</th>\n",
       "      <td>6</td>\n",
       "      <td>U</td>\n",
       "      <td>1</td>\n",
       "      <td>99999</td>\n",
       "      <td>20</td>\n",
       "      <td>1</td>\n",
       "      <td>61.5</td>\n",
       "      <td>14</td>\n",
       "      <td>20</td>\n",
       "      <td>0</td>\n",
       "      <td>0</td>\n",
       "      <td>1</td>\n",
       "      <td>0</td>\n",
       "    </tr>\n",
       "    <tr>\n",
       "      <th>6</th>\n",
       "      <td>7</td>\n",
       "      <td>U</td>\n",
       "      <td>1</td>\n",
       "      <td>99999</td>\n",
       "      <td>20</td>\n",
       "      <td>1</td>\n",
       "      <td>56.0</td>\n",
       "      <td>5</td>\n",
       "      <td>27</td>\n",
       "      <td>0</td>\n",
       "      <td>0</td>\n",
       "      <td>1</td>\n",
       "      <td>0</td>\n",
       "    </tr>\n",
       "    <tr>\n",
       "      <th>7</th>\n",
       "      <td>8</td>\n",
       "      <td>U</td>\n",
       "      <td>1</td>\n",
       "      <td>99999</td>\n",
       "      <td>20</td>\n",
       "      <td>1</td>\n",
       "      <td>39.5</td>\n",
       "      <td>4</td>\n",
       "      <td>2</td>\n",
       "      <td>0</td>\n",
       "      <td>0</td>\n",
       "      <td>0</td>\n",
       "      <td>0</td>\n",
       "    </tr>\n",
       "    <tr>\n",
       "      <th>8</th>\n",
       "      <td>9</td>\n",
       "      <td>U</td>\n",
       "      <td>1</td>\n",
       "      <td>99999</td>\n",
       "      <td>20</td>\n",
       "      <td>1</td>\n",
       "      <td>22.0</td>\n",
       "      <td>17</td>\n",
       "      <td>1</td>\n",
       "      <td>0</td>\n",
       "      <td>0</td>\n",
       "      <td>0</td>\n",
       "      <td>1</td>\n",
       "    </tr>\n",
       "    <tr>\n",
       "      <th>9</th>\n",
       "      <td>10</td>\n",
       "      <td>U</td>\n",
       "      <td>1</td>\n",
       "      <td>99999</td>\n",
       "      <td>20</td>\n",
       "      <td>2</td>\n",
       "      <td>113.0</td>\n",
       "      <td>7</td>\n",
       "      <td>15</td>\n",
       "      <td>0</td>\n",
       "      <td>0</td>\n",
       "      <td>0</td>\n",
       "      <td>0</td>\n",
       "    </tr>\n",
       "  </tbody>\n",
       "</table>\n",
       "</div>"
      ],
      "text/plain": [
       "   id sex  bizflag    zip  zip_bins  numords  dollars  last  sincepurch  \\\n",
       "0   1   U        1  99999        20        1    129.5    11           1   \n",
       "1   2   U        1  99999        20        2     65.0     4          14   \n",
       "2   3   U        1  99999        20        1     24.5    13          36   \n",
       "3   4   U        1  99999        20        1     80.5     5          19   \n",
       "4   5   U        1  99999        20        1    111.0    14           7   \n",
       "5   6   U        1  99999        20        1     61.5    14          20   \n",
       "6   7   U        1  99999        20        1     56.0     5          27   \n",
       "7   8   U        1  99999        20        1     39.5     4           2   \n",
       "8   9   U        1  99999        20        1     22.0    17           1   \n",
       "9  10   U        1  99999        20        2    113.0     7          15   \n",
       "\n",
       "   version1  owntaxprod  upgraded  res1  \n",
       "0         0           0         0     0  \n",
       "1         0           0         0     0  \n",
       "2         1           0         0     0  \n",
       "3         1           0         0     0  \n",
       "4         0           0         0     0  \n",
       "5         0           0         1     0  \n",
       "6         0           0         1     0  \n",
       "7         0           0         0     0  \n",
       "8         0           0         0     1  \n",
       "9         0           0         0     0  "
      ]
     },
     "execution_count": 1,
     "metadata": {},
     "output_type": "execute_result"
    }
   ],
   "source": [
    "data.head(10)"
   ]
  },
  {
   "cell_type": "code",
   "execution_count": 2,
   "id": "0f585bcd",
   "metadata": {
    "scrolled": true
   },
   "outputs": [
    {
     "data": {
      "text/html": [
       "<div>\n",
       "<style scoped>\n",
       "    .dataframe tbody tr th:only-of-type {\n",
       "        vertical-align: middle;\n",
       "    }\n",
       "\n",
       "    .dataframe tbody tr th {\n",
       "        vertical-align: top;\n",
       "    }\n",
       "\n",
       "    .dataframe thead th {\n",
       "        text-align: right;\n",
       "    }\n",
       "</style>\n",
       "<table border=\"1\" class=\"dataframe\">\n",
       "  <thead>\n",
       "    <tr style=\"text-align: right;\">\n",
       "      <th></th>\n",
       "      <th>id</th>\n",
       "      <th>bizflag</th>\n",
       "      <th>zip</th>\n",
       "      <th>zip_bins</th>\n",
       "      <th>numords</th>\n",
       "      <th>dollars</th>\n",
       "      <th>last</th>\n",
       "      <th>sincepurch</th>\n",
       "      <th>version1</th>\n",
       "      <th>owntaxprod</th>\n",
       "      <th>upgraded</th>\n",
       "      <th>res1</th>\n",
       "    </tr>\n",
       "  </thead>\n",
       "  <tbody>\n",
       "    <tr>\n",
       "      <th>count</th>\n",
       "      <td>20000.000000</td>\n",
       "      <td>20000.000000</td>\n",
       "      <td>20000.0000</td>\n",
       "      <td>20000.000000</td>\n",
       "      <td>20000.000000</td>\n",
       "      <td>20000.000000</td>\n",
       "      <td>20000.000000</td>\n",
       "      <td>20000.000000</td>\n",
       "      <td>20000.000000</td>\n",
       "      <td>20000.000000</td>\n",
       "      <td>20000.000000</td>\n",
       "      <td>20000.000000</td>\n",
       "    </tr>\n",
       "    <tr>\n",
       "      <th>mean</th>\n",
       "      <td>10000.500000</td>\n",
       "      <td>0.244400</td>\n",
       "      <td>54350.2613</td>\n",
       "      <td>10.499000</td>\n",
       "      <td>2.079450</td>\n",
       "      <td>93.581000</td>\n",
       "      <td>15.779650</td>\n",
       "      <td>15.751400</td>\n",
       "      <td>0.208250</td>\n",
       "      <td>0.027100</td>\n",
       "      <td>0.215600</td>\n",
       "      <td>0.048050</td>\n",
       "    </tr>\n",
       "    <tr>\n",
       "      <th>std</th>\n",
       "      <td>5773.647028</td>\n",
       "      <td>0.429742</td>\n",
       "      <td>32776.4059</td>\n",
       "      <td>5.766755</td>\n",
       "      <td>1.246361</td>\n",
       "      <td>82.601398</td>\n",
       "      <td>9.527331</td>\n",
       "      <td>10.020435</td>\n",
       "      <td>0.406067</td>\n",
       "      <td>0.162379</td>\n",
       "      <td>0.411248</td>\n",
       "      <td>0.213877</td>\n",
       "    </tr>\n",
       "    <tr>\n",
       "      <th>min</th>\n",
       "      <td>1.000000</td>\n",
       "      <td>0.000000</td>\n",
       "      <td>0.0000</td>\n",
       "      <td>1.000000</td>\n",
       "      <td>1.000000</td>\n",
       "      <td>1.000000</td>\n",
       "      <td>1.000000</td>\n",
       "      <td>1.000000</td>\n",
       "      <td>0.000000</td>\n",
       "      <td>0.000000</td>\n",
       "      <td>0.000000</td>\n",
       "      <td>0.000000</td>\n",
       "    </tr>\n",
       "    <tr>\n",
       "      <th>25%</th>\n",
       "      <td>5000.750000</td>\n",
       "      <td>0.000000</td>\n",
       "      <td>23451.0000</td>\n",
       "      <td>5.000000</td>\n",
       "      <td>1.000000</td>\n",
       "      <td>37.000000</td>\n",
       "      <td>8.000000</td>\n",
       "      <td>7.000000</td>\n",
       "      <td>0.000000</td>\n",
       "      <td>0.000000</td>\n",
       "      <td>0.000000</td>\n",
       "      <td>0.000000</td>\n",
       "    </tr>\n",
       "    <tr>\n",
       "      <th>50%</th>\n",
       "      <td>10000.500000</td>\n",
       "      <td>0.000000</td>\n",
       "      <td>55402.5000</td>\n",
       "      <td>10.500000</td>\n",
       "      <td>2.000000</td>\n",
       "      <td>71.000000</td>\n",
       "      <td>15.000000</td>\n",
       "      <td>15.000000</td>\n",
       "      <td>0.000000</td>\n",
       "      <td>0.000000</td>\n",
       "      <td>0.000000</td>\n",
       "      <td>0.000000</td>\n",
       "    </tr>\n",
       "    <tr>\n",
       "      <th>75%</th>\n",
       "      <td>15000.250000</td>\n",
       "      <td>0.000000</td>\n",
       "      <td>89018.7500</td>\n",
       "      <td>15.250000</td>\n",
       "      <td>3.000000</td>\n",
       "      <td>124.500000</td>\n",
       "      <td>24.000000</td>\n",
       "      <td>24.000000</td>\n",
       "      <td>0.000000</td>\n",
       "      <td>0.000000</td>\n",
       "      <td>0.000000</td>\n",
       "      <td>0.000000</td>\n",
       "    </tr>\n",
       "    <tr>\n",
       "      <th>max</th>\n",
       "      <td>20000.000000</td>\n",
       "      <td>1.000000</td>\n",
       "      <td>99999.0000</td>\n",
       "      <td>20.000000</td>\n",
       "      <td>5.000000</td>\n",
       "      <td>937.500000</td>\n",
       "      <td>36.000000</td>\n",
       "      <td>36.000000</td>\n",
       "      <td>1.000000</td>\n",
       "      <td>1.000000</td>\n",
       "      <td>1.000000</td>\n",
       "      <td>1.000000</td>\n",
       "    </tr>\n",
       "  </tbody>\n",
       "</table>\n",
       "</div>"
      ],
      "text/plain": [
       "                 id       bizflag         zip      zip_bins       numords  \\\n",
       "count  20000.000000  20000.000000  20000.0000  20000.000000  20000.000000   \n",
       "mean   10000.500000      0.244400  54350.2613     10.499000      2.079450   \n",
       "std     5773.647028      0.429742  32776.4059      5.766755      1.246361   \n",
       "min        1.000000      0.000000      0.0000      1.000000      1.000000   \n",
       "25%     5000.750000      0.000000  23451.0000      5.000000      1.000000   \n",
       "50%    10000.500000      0.000000  55402.5000     10.500000      2.000000   \n",
       "75%    15000.250000      0.000000  89018.7500     15.250000      3.000000   \n",
       "max    20000.000000      1.000000  99999.0000     20.000000      5.000000   \n",
       "\n",
       "            dollars          last    sincepurch      version1    owntaxprod  \\\n",
       "count  20000.000000  20000.000000  20000.000000  20000.000000  20000.000000   \n",
       "mean      93.581000     15.779650     15.751400      0.208250      0.027100   \n",
       "std       82.601398      9.527331     10.020435      0.406067      0.162379   \n",
       "min        1.000000      1.000000      1.000000      0.000000      0.000000   \n",
       "25%       37.000000      8.000000      7.000000      0.000000      0.000000   \n",
       "50%       71.000000     15.000000     15.000000      0.000000      0.000000   \n",
       "75%      124.500000     24.000000     24.000000      0.000000      0.000000   \n",
       "max      937.500000     36.000000     36.000000      1.000000      1.000000   \n",
       "\n",
       "           upgraded          res1  \n",
       "count  20000.000000  20000.000000  \n",
       "mean       0.215600      0.048050  \n",
       "std        0.411248      0.213877  \n",
       "min        0.000000      0.000000  \n",
       "25%        0.000000      0.000000  \n",
       "50%        0.000000      0.000000  \n",
       "75%        0.000000      0.000000  \n",
       "max        1.000000      1.000000  "
      ]
     },
     "execution_count": 2,
     "metadata": {},
     "output_type": "execute_result"
    }
   ],
   "source": [
    "data.describe()"
   ]
  },
  {
   "cell_type": "markdown",
   "id": "94254f4a",
   "metadata": {},
   "source": [
    "Add binary variables for sex"
   ]
  },
  {
   "cell_type": "code",
   "execution_count": 11,
   "id": "d06c531e",
   "metadata": {},
   "outputs": [
    {
     "ename": "KeyError",
     "evalue": "\"None of [Index(['sex'], dtype='object')] are in the [columns]\"",
     "output_type": "error",
     "traceback": [
      "\u001b[1;31m---------------------------------------------------------------------------\u001b[0m",
      "\u001b[1;31mKeyError\u001b[0m                                  Traceback (most recent call last)",
      "Cell \u001b[1;32mIn[11], line 2\u001b[0m\n\u001b[0;32m      1\u001b[0m \u001b[38;5;66;03m# Add transformational ordinal and indicator variables\u001b[39;00m\n\u001b[1;32m----> 2\u001b[0m data \u001b[38;5;241m=\u001b[39m \u001b[43mpandas\u001b[49m\u001b[38;5;241;43m.\u001b[39;49m\u001b[43mget_dummies\u001b[49m\u001b[43m(\u001b[49m\u001b[43mdata\u001b[49m\u001b[43m,\u001b[49m\u001b[43m \u001b[49m\u001b[43mcolumns\u001b[49m\u001b[38;5;241;43m=\u001b[39;49m\u001b[43m[\u001b[49m\u001b[38;5;124;43m'\u001b[39;49m\u001b[38;5;124;43msex\u001b[39;49m\u001b[38;5;124;43m'\u001b[39;49m\u001b[43m]\u001b[49m\u001b[43m)\u001b[49m\n",
      "File \u001b[1;32mc:\\Users\\ALBERT DENG\\miniconda3\\Lib\\site-packages\\pandas\\core\\reshape\\reshape.py:890\u001b[0m, in \u001b[0;36mget_dummies\u001b[1;34m(data, prefix, prefix_sep, dummy_na, columns, sparse, drop_first, dtype)\u001b[0m\n\u001b[0;32m    888\u001b[0m     \u001b[38;5;28;01mraise\u001b[39;00m \u001b[38;5;167;01mTypeError\u001b[39;00m(\u001b[38;5;124m\"\u001b[39m\u001b[38;5;124mInput must be a list-like for parameter `columns`\u001b[39m\u001b[38;5;124m\"\u001b[39m)\n\u001b[0;32m    889\u001b[0m \u001b[38;5;28;01melse\u001b[39;00m:\n\u001b[1;32m--> 890\u001b[0m     data_to_encode \u001b[38;5;241m=\u001b[39m \u001b[43mdata\u001b[49m\u001b[43m[\u001b[49m\u001b[43mcolumns\u001b[49m\u001b[43m]\u001b[49m\n\u001b[0;32m    892\u001b[0m \u001b[38;5;66;03m# validate prefixes and separator to avoid silently dropping cols\u001b[39;00m\n\u001b[0;32m    893\u001b[0m \u001b[38;5;28;01mdef\u001b[39;00m \u001b[38;5;21mcheck_len\u001b[39m(item, name):\n",
      "File \u001b[1;32mc:\\Users\\ALBERT DENG\\miniconda3\\Lib\\site-packages\\pandas\\core\\frame.py:3464\u001b[0m, in \u001b[0;36mDataFrame.__getitem__\u001b[1;34m(self, key)\u001b[0m\n\u001b[0;32m   3462\u001b[0m     \u001b[38;5;28;01mif\u001b[39;00m is_iterator(key):\n\u001b[0;32m   3463\u001b[0m         key \u001b[38;5;241m=\u001b[39m \u001b[38;5;28mlist\u001b[39m(key)\n\u001b[1;32m-> 3464\u001b[0m     indexer \u001b[38;5;241m=\u001b[39m \u001b[38;5;28;43mself\u001b[39;49m\u001b[38;5;241;43m.\u001b[39;49m\u001b[43mloc\u001b[49m\u001b[38;5;241;43m.\u001b[39;49m\u001b[43m_get_listlike_indexer\u001b[49m\u001b[43m(\u001b[49m\u001b[43mkey\u001b[49m\u001b[43m,\u001b[49m\u001b[43m \u001b[49m\u001b[43maxis\u001b[49m\u001b[38;5;241;43m=\u001b[39;49m\u001b[38;5;241;43m1\u001b[39;49m\u001b[43m)\u001b[49m[\u001b[38;5;241m1\u001b[39m]\n\u001b[0;32m   3466\u001b[0m \u001b[38;5;66;03m# take() does not accept boolean indexers\u001b[39;00m\n\u001b[0;32m   3467\u001b[0m \u001b[38;5;28;01mif\u001b[39;00m \u001b[38;5;28mgetattr\u001b[39m(indexer, \u001b[38;5;124m\"\u001b[39m\u001b[38;5;124mdtype\u001b[39m\u001b[38;5;124m\"\u001b[39m, \u001b[38;5;28;01mNone\u001b[39;00m) \u001b[38;5;241m==\u001b[39m \u001b[38;5;28mbool\u001b[39m:\n",
      "File \u001b[1;32mc:\\Users\\ALBERT DENG\\miniconda3\\Lib\\site-packages\\pandas\\core\\indexing.py:1314\u001b[0m, in \u001b[0;36m_LocIndexer._get_listlike_indexer\u001b[1;34m(self, key, axis)\u001b[0m\n\u001b[0;32m   1311\u001b[0m \u001b[38;5;28;01melse\u001b[39;00m:\n\u001b[0;32m   1312\u001b[0m     keyarr, indexer, new_indexer \u001b[38;5;241m=\u001b[39m ax\u001b[38;5;241m.\u001b[39m_reindex_non_unique(keyarr)\n\u001b[1;32m-> 1314\u001b[0m \u001b[38;5;28;43mself\u001b[39;49m\u001b[38;5;241;43m.\u001b[39;49m\u001b[43m_validate_read_indexer\u001b[49m\u001b[43m(\u001b[49m\u001b[43mkeyarr\u001b[49m\u001b[43m,\u001b[49m\u001b[43m \u001b[49m\u001b[43mindexer\u001b[49m\u001b[43m,\u001b[49m\u001b[43m \u001b[49m\u001b[43maxis\u001b[49m\u001b[43m)\u001b[49m\n\u001b[0;32m   1316\u001b[0m \u001b[38;5;28;01mif\u001b[39;00m needs_i8_conversion(ax\u001b[38;5;241m.\u001b[39mdtype) \u001b[38;5;129;01mor\u001b[39;00m \u001b[38;5;28misinstance\u001b[39m(\n\u001b[0;32m   1317\u001b[0m     ax, (IntervalIndex, CategoricalIndex)\n\u001b[0;32m   1318\u001b[0m ):\n\u001b[0;32m   1319\u001b[0m     \u001b[38;5;66;03m# For CategoricalIndex take instead of reindex to preserve dtype.\u001b[39;00m\n\u001b[0;32m   1320\u001b[0m     \u001b[38;5;66;03m#  For IntervalIndex this is to map integers to the Intervals they match to.\u001b[39;00m\n\u001b[0;32m   1321\u001b[0m     keyarr \u001b[38;5;241m=\u001b[39m ax\u001b[38;5;241m.\u001b[39mtake(indexer)\n",
      "File \u001b[1;32mc:\\Users\\ALBERT DENG\\miniconda3\\Lib\\site-packages\\pandas\\core\\indexing.py:1374\u001b[0m, in \u001b[0;36m_LocIndexer._validate_read_indexer\u001b[1;34m(self, key, indexer, axis)\u001b[0m\n\u001b[0;32m   1372\u001b[0m     \u001b[38;5;28;01mif\u001b[39;00m use_interval_msg:\n\u001b[0;32m   1373\u001b[0m         key \u001b[38;5;241m=\u001b[39m \u001b[38;5;28mlist\u001b[39m(key)\n\u001b[1;32m-> 1374\u001b[0m     \u001b[38;5;28;01mraise\u001b[39;00m \u001b[38;5;167;01mKeyError\u001b[39;00m(\u001b[38;5;124mf\u001b[39m\u001b[38;5;124m\"\u001b[39m\u001b[38;5;124mNone of [\u001b[39m\u001b[38;5;132;01m{\u001b[39;00mkey\u001b[38;5;132;01m}\u001b[39;00m\u001b[38;5;124m] are in the [\u001b[39m\u001b[38;5;132;01m{\u001b[39;00maxis_name\u001b[38;5;132;01m}\u001b[39;00m\u001b[38;5;124m]\u001b[39m\u001b[38;5;124m\"\u001b[39m)\n\u001b[0;32m   1376\u001b[0m not_found \u001b[38;5;241m=\u001b[39m \u001b[38;5;28mlist\u001b[39m(ensure_index(key)[missing_mask\u001b[38;5;241m.\u001b[39mnonzero()[\u001b[38;5;241m0\u001b[39m]]\u001b[38;5;241m.\u001b[39munique())\n\u001b[0;32m   1377\u001b[0m \u001b[38;5;28;01mraise\u001b[39;00m \u001b[38;5;167;01mKeyError\u001b[39;00m(\u001b[38;5;124mf\u001b[39m\u001b[38;5;124m\"\u001b[39m\u001b[38;5;132;01m{\u001b[39;00mnot_found\u001b[38;5;132;01m}\u001b[39;00m\u001b[38;5;124m not in index\u001b[39m\u001b[38;5;124m\"\u001b[39m)\n",
      "\u001b[1;31mKeyError\u001b[0m: \"None of [Index(['sex'], dtype='object')] are in the [columns]\""
     ]
    }
   ],
   "source": [
    "# Add transformational ordinal and indicator variables\n",
    "data = pandas.get_dummies(data, columns=['sex'])"
   ]
  },
  {
   "cell_type": "markdown",
   "id": "2733d6bb",
   "metadata": {},
   "source": [
    "Run logistic regression with all variables (removed unknown sex, because that is 100% correlated with combination of male, female, and both_Sex), (removed zip and used zip bins instead)"
   ]
  },
  {
   "cell_type": "code",
   "execution_count": 5,
   "id": "366fd37d",
   "metadata": {},
   "outputs": [
    {
     "name": "stdout",
     "output_type": "stream",
     "text": [
      "Optimization terminated successfully    (Exit mode 0)\n",
      "            Current function value: 0.178778205224813\n",
      "            Iterations: 60\n",
      "            Function evaluations: 66\n",
      "            Gradient evaluations: 60\n"
     ]
    }
   ],
   "source": [
    "variables = ['male','female','both_sex','bizflag','zip_bins',\n",
    "                                'numords','dollars','last','sincepurch','version1','owntaxprod','upgraded']\n",
    "res = mba263.logit_reg(data['res1'],data[variables])"
   ]
  },
  {
   "cell_type": "markdown",
   "id": "e707d997",
   "metadata": {},
   "source": [
    "Predict the response rate for the 1st mail"
   ]
  },
  {
   "cell_type": "code",
   "execution_count": 6,
   "id": "cefeec2e",
   "metadata": {},
   "outputs": [],
   "source": [
    "data['p_res1']=res.predict()"
   ]
  },
  {
   "cell_type": "markdown",
   "id": "a7cd8e14",
   "metadata": {},
   "source": [
    "Plot the gains table"
   ]
  },
  {
   "cell_type": "code",
   "execution_count": 25,
   "id": "db991892",
   "metadata": {},
   "outputs": [
    {
     "data": {
      "text/plain": [
       "[<matplotlib.lines.Line2D at 0x7ff06307f5e0>]"
      ]
     },
     "execution_count": 25,
     "metadata": {},
     "output_type": "execute_result"
    },
    {
     "data": {
      "image/png": "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\n",
      "text/plain": [
       "<Figure size 432x288 with 1 Axes>"
      ]
     },
     "metadata": {
      "needs_background": "light"
     },
     "output_type": "display_data"
    }
   ],
   "source": [
    "gains1=mba263.gain(data['res1'],data['p_res1'],bins=30)\n",
    "plt.plot(gains1,'g')\n",
    "plt.plot([0,30],[0,1],'b')"
   ]
  },
  {
   "cell_type": "markdown",
   "id": "109e750b",
   "metadata": {},
   "source": [
    "Try a neural network model"
   ]
  },
  {
   "cell_type": "code",
   "execution_count": 26,
   "id": "66ad1e34",
   "metadata": {},
   "outputs": [],
   "source": [
    "result_nn = mba263.neural_network(data['res1'],data[ variables ])"
   ]
  },
  {
   "cell_type": "code",
   "execution_count": 27,
   "id": "ef1c0b61",
   "metadata": {},
   "outputs": [],
   "source": [
    "data['p_nn'] = result_nn.predict(data[ variables ])"
   ]
  },
  {
   "cell_type": "markdown",
   "id": "10c6696d",
   "metadata": {},
   "source": [
    "See if NN gains are better than logistic regression"
   ]
  },
  {
   "cell_type": "code",
   "execution_count": 28,
   "id": "2a141aba",
   "metadata": {},
   "outputs": [
    {
     "data": {
      "text/plain": [
       "[<matplotlib.lines.Line2D at 0x7ff0625cdbe0>]"
      ]
     },
     "execution_count": 28,
     "metadata": {},
     "output_type": "execute_result"
    },
    {
     "data": {
      "image/png": "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\n",
      "text/plain": [
       "<Figure size 432x288 with 1 Axes>"
      ]
     },
     "metadata": {
      "needs_background": "light"
     },
     "output_type": "display_data"
    }
   ],
   "source": [
    "gains_nn=mba263.gain(data['res1'],data['p_nn'],30)\n",
    "plt.plot(gains1,'g')\n",
    "plt.plot(gains_nn,'r')\n",
    "plt.plot([0,30],[0,1],'b')"
   ]
  },
  {
   "cell_type": "markdown",
   "id": "e544fa35",
   "metadata": {},
   "source": [
    "Predict the response rate for the 2nd mail as half the probability of the first mail"
   ]
  },
  {
   "cell_type": "code",
   "execution_count": 7,
   "id": "dc64b76d",
   "metadata": {},
   "outputs": [],
   "source": [
    "data['p_res2']=data['p_res1']/2"
   ]
  },
  {
   "cell_type": "markdown",
   "id": "08f7f786",
   "metadata": {},
   "source": [
    "Identify the people to send the second mail as the people whose response rate is higher than breakeven and that did not respond in the first mail"
   ]
  },
  {
   "cell_type": "code",
<<<<<<< HEAD
   "execution_count": null,
=======
   "execution_count": 8,
>>>>>>> c989252fec8b3ea418dedcc956a49a6e61294b54
   "id": "aafad280",
   "metadata": {},
   "outputs": [],
   "source": [
    "breakeven = 0.0235\n",
    "data['second_mail'] = 1*(data['p_res2']>=breakeven)&(data['res1']==0)"
   ]
  },
  {
   "cell_type": "markdown",
   "id": "e8011962",
   "metadata": {},
   "source": [
    "Calculate how many people are included in the second mail"
   ]
  },
  {
   "cell_type": "code",
<<<<<<< HEAD
   "execution_count": null,
=======
   "execution_count": 9,
>>>>>>> c989252fec8b3ea418dedcc956a49a6e61294b54
   "id": "f07f5d9a",
   "metadata": {},
   "outputs": [],
   "source": [
    "len_second_mail = len(data[data['second_mail']==1])"
   ]
  },
  {
   "cell_type": "markdown",
   "id": "601a7b37",
   "metadata": {},
   "source": [
    "Calculate Expected Profit from second mail"
   ]
  },
  {
   "cell_type": "code",
<<<<<<< HEAD
   "execution_count": null,
=======
   "execution_count": 10,
>>>>>>> c989252fec8b3ea418dedcc956a49a6e61294b54
   "id": "8e29a652",
   "metadata": {},
   "outputs": [
    {
     "name": "stdout",
     "output_type": "stream",
     "text": [
      "7609.886255947413\n"
     ]
    }
   ],
   "source": [
    "mail_cost = 1.41\n",
    "profit_per_customer = 60\n",
    "profit_second_mail = (profit_per_customer*data[(data['second_mail'] == 1)]['p_res2'].mean()*len_second_mail)-(mail_cost*len_second_mail)\n",
    "print(profit_second_mail)"
   ]
  },
  {
   "cell_type": "code",
   "execution_count": null,
   "id": "f528bb85",
   "metadata": {},
   "outputs": [],
   "source": []
  }
 ],
 "metadata": {
  "kernelspec": {
   "display_name": "Python 3 (ipykernel)",
   "language": "python",
   "name": "python3"
  },
  "language_info": {
   "codemirror_mode": {
    "name": "ipython",
    "version": 3
   },
   "file_extension": ".py",
   "mimetype": "text/x-python",
   "name": "python",
   "nbconvert_exporter": "python",
   "pygments_lexer": "ipython3",
   "version": "3.9.7"
  }
 },
 "nbformat": 4,
 "nbformat_minor": 5
}
